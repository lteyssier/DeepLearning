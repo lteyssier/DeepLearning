{
 "cells": [
  {
   "cell_type": "markdown",
   "metadata": {},
   "source": [
    "# Exponentially Weighted Moving Average"
   ]
  },
  {
   "cell_type": "markdown",
   "metadata": {},
   "source": [
    "## Lectura y representación del conjunto de datos"
   ]
  },
  {
   "cell_type": "code",
   "execution_count": null,
   "metadata": {},
   "outputs": [],
   "source": [
    "import pandas as pd\n",
    "\n",
    "df = pd.read_csv(\"weather_Madrid.csv\")\n",
    "df"
   ]
  },
  {
   "cell_type": "code",
   "execution_count": null,
   "metadata": {},
   "outputs": [],
   "source": [
    "# Transformamos la columna CET a formato fecha para comparar\n",
    "df['CET'] = pd.to_datetime(df['CET'])"
   ]
  },
  {
   "cell_type": "code",
   "execution_count": null,
   "metadata": {},
   "outputs": [],
   "source": [
    "# Creamos el filtro que queremos aplicar al conjunto de datos\n",
    "mask = (df['CET'] >= '2015-1-1') & (df['CET'] <= '2015-12-31')"
   ]
  },
  {
   "cell_type": "code",
   "execution_count": null,
   "metadata": {},
   "outputs": [],
   "source": [
    "df_prep = df.loc[mask][[\"CET\", \"Mean TemperatureC\"]]\n",
    "df_prep"
   ]
  },
  {
   "cell_type": "code",
   "execution_count": null,
   "metadata": {},
   "outputs": [],
   "source": [
    "# Representacion grafica del conjunto de datos\n",
    "import matplotlib.pyplot as plt\n",
    "import numpy as np\n",
    "%matplotlib inline\n",
    "\n",
    "plt.figure(figsize=(22, 11))\n",
    "plt.plot(df_prep[\"CET\"], df_prep[\"Mean TemperatureC\"], \"bo\")\n",
    "\n",
    "plt.ylabel(\"Temperatura\", fontsize=14)\n",
    "plt.xticks(['2015-01', '2015-02', '2015-03', '2015-04', '2015-05', '2015-06', '2015-07', '2015-08', '2015-09', '2015-10', '2015-11', '2015-12', '2016-01'], fontsize=14)\n",
    "plt.yticks(fontsize=14)\n",
    "plt.grid()\n",
    "\n",
    "plt.show()"
   ]
  },
  {
   "cell_type": "code",
   "execution_count": null,
   "metadata": {},
   "outputs": [],
   "source": [
    "# Representacion grafica del conjunto de datos\n",
    "import matplotlib.pyplot as plt\n",
    "import numpy as np\n",
    "%matplotlib inline\n",
    "\n",
    "plt.figure(figsize=(14, 7))\n",
    "plt.plot(df_prep[\"CET\"], df_prep[\"Mean TemperatureC\"], \"b\")\n",
    "\n",
    "plt.ylabel(\"Temperatura\", fontsize=12)\n",
    "plt.xticks(['2015-01', '2015-02', '2015-03', '2015-04', '2015-05', '2015-06', '2015-07', '2015-08', '2015-09', '2015-10', '2015-11', '2015-12', '2016-01'], fontsize=11)\n",
    "plt.yticks(fontsize=11)\n",
    "plt.grid()\n",
    "\n",
    "plt.show()"
   ]
  },
  {
   "cell_type": "markdown",
   "metadata": {},
   "source": [
    "## Exponentially Weighted Moving Average"
   ]
  },
  {
   "cell_type": "code",
   "execution_count": null,
   "metadata": {},
   "outputs": [],
   "source": [
    "# Calculamos Exponentially Weighted Moving Average sobre un ejemplo\n",
    "def ewma(theta, b=0.9):\n",
    "    if len(theta) == 1:\n",
    "        return b*0 + (1-b)*theta[-1]\n",
    "    return b*ewma(theta[:-1]) + (1-b)*theta[-1]"
   ]
  },
  {
   "cell_type": "code",
   "execution_count": null,
   "metadata": {},
   "outputs": [],
   "source": [
    "import numpy as np\n",
    "\n",
    "def apply_ewma(data, b=0.9):\n",
    "    v_data = []\n",
    "    for i in np.arange(1, len(data) + 1):\n",
    "        print(\"\\rProcesando ejemplo: {0}\".format(i), end='')\n",
    "        v_data.append(ewma(data[:i], b=b))\n",
    "    return v_data"
   ]
  },
  {
   "cell_type": "code",
   "execution_count": null,
   "metadata": {},
   "outputs": [],
   "source": [
    "v_df = apply_ewma(list(df_prep[\"Mean TemperatureC\"]))"
   ]
  },
  {
   "cell_type": "code",
   "execution_count": null,
   "metadata": {},
   "outputs": [],
   "source": [
    "# Representacion grafica del conjunto de datos\n",
    "import matplotlib.pyplot as plt\n",
    "import numpy as np\n",
    "%matplotlib inline\n",
    "\n",
    "plt.figure(figsize=(14, 7))\n",
    "\n",
    "plt.plot(df_prep[\"CET\"], df_prep[\"Mean TemperatureC\"], c=\"b\")\n",
    "plt.plot(df_prep[\"CET\"], v_df, c=\"g\")\n",
    "\n",
    "plt.ylabel(\"Temperatura\", fontsize=14)\n",
    "plt.xticks(['2015-01', '2015-02', '2015-03', '2015-04', '2015-05', '2015-06', '2015-07', '2015-08', '2015-09', '2015-10', '2015-11', '2015-12', '2016-01'])\n",
    "plt.grid()\n",
    "\n",
    "plt.show()"
   ]
  },
  {
   "cell_type": "markdown",
   "metadata": {},
   "source": [
    "## Exponentially Weighted Moving Average With Bias Correction"
   ]
  },
  {
   "cell_type": "code",
   "execution_count": null,
   "metadata": {},
   "outputs": [],
   "source": [
    "def ewma(theta, b=0.9):\n",
    "    if len(theta) == 1:\n",
    "        return b*0 + (1-b)*theta[-1]\n",
    "    return b*ewma(theta[:-1]) + (1-b)*theta[-1]"
   ]
  },
  {
   "cell_type": "code",
   "execution_count": null,
   "metadata": {},
   "outputs": [],
   "source": [
    "# Aplicamos bias correction\n",
    "import numpy as np\n",
    "\n",
    "def apply_ewma_bias_corr(data, b=0.9):\n",
    "    v_data = []\n",
    "    for i in np.arange(1, len(data) + 1):\n",
    "        print(\"\\rProcesando ejemplo: {0}\".format(i), end='')\n",
    "        v_data.append(ewma(data[:i], b=b) / (1-b**i))\n",
    "    return v_data"
   ]
  },
  {
   "cell_type": "code",
   "execution_count": null,
   "metadata": {},
   "outputs": [],
   "source": [
    "v_df_corr = apply_ewma_bias_corr(list(df_prep[\"Mean TemperatureC\"]))"
   ]
  },
  {
   "cell_type": "code",
   "execution_count": null,
   "metadata": {},
   "outputs": [],
   "source": [
    "# Representacion grafica del conjunto de datos\n",
    "import matplotlib.pyplot as plt\n",
    "import numpy as np\n",
    "%matplotlib inline\n",
    "\n",
    "plt.figure(figsize=(14, 7))\n",
    "\n",
    "plt.plot(df_prep[\"CET\"], df_prep[\"Mean TemperatureC\"], c=\"b\")\n",
    "plt.plot(df_prep[\"CET\"], v_df_corr, c=\"r\")\n",
    "\n",
    "plt.ylabel(\"Temperatura\", fontsize=14)\n",
    "plt.xticks(['2015-01', '2015-02', '2015-03', '2015-04', '2015-05', '2015-06', '2015-07', '2015-08', '2015-09', '2015-10', '2015-11', '2015-12', '2016-01'])\n",
    "plt.grid()\n",
    "\n",
    "plt.show()"
   ]
  },
  {
   "cell_type": "code",
   "execution_count": null,
   "metadata": {},
   "outputs": [],
   "source": []
  }
 ],
 "metadata": {
  "kernelspec": {
   "display_name": "Python 3",
   "language": "python",
   "name": "python3"
  },
  "language_info": {
   "codemirror_mode": {
    "name": "ipython",
    "version": 3
   },
   "file_extension": ".py",
   "mimetype": "text/x-python",
   "name": "python",
   "nbconvert_exporter": "python",
   "pygments_lexer": "ipython3",
   "version": "3.8.5"
  }
 },
 "nbformat": 4,
 "nbformat_minor": 4
}
